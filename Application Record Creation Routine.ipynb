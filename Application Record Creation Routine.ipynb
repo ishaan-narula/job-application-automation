{
 "cells": [
  {
   "cell_type": "raw",
   "id": "49d56f16-95c2-4a8a-aae5-ab16465b97f7",
   "metadata": {},
   "source": [
    "Notes:\n",
    "- If the name of the folder contains a forward slash (/), it will return an error since the code would need to create two directories (one before and one after the '/') and the mkdir method cannot do that. Replace '/' with a ':'"
   ]
  },
  {
   "cell_type": "code",
   "execution_count": 6,
   "id": "1d9a5936-47db-4779-b709-9ec3f389d007",
   "metadata": {},
   "outputs": [],
   "source": [
    "# Create folder\n",
    "import os\n",
    "directory = 'JJ Search Limited - Equity Analyst, Global Asset Management - London'\n",
    "os.mkdir(directory)\n",
    "\n",
    "# Add CV files\n",
    "cv_location = '/Volumes/GoogleDrive/My Drive/Career/CVs/6 After MS Versions/English CVs/Markets, Hedge Funds, Investment Management/'\n",
    "cv_files = ['CV_Ishaan Narula.docx', 'CV_Ishaan Narula.pdf']\n",
    "\n",
    "import shutil\n",
    "\n",
    "for f in cv_files:\n",
    "    src = os.path.join(cv_location, f)\n",
    "    shutil.copy2(src, directory)\n",
    "    \n",
    "# Add resulting folder to favourites\n",
    "from finder_sidebar_editor import FinderSidebar\n",
    "\n",
    "FinderSidebar().add(directory)"
   ]
  },
  {
   "cell_type": "code",
   "execution_count": null,
   "id": "8dca9611-b1b6-44bd-9417-51700b91a832",
   "metadata": {},
   "outputs": [],
   "source": [
    "# Rough\n",
    "#print(os.path.abspath(directory))\n",
    "#print(os.path.join(cv_location, cv_files[0]))"
   ]
  }
 ],
 "metadata": {
  "kernelspec": {
   "display_name": "Python 3 (ipykernel)",
   "language": "python",
   "name": "python3"
  },
  "language_info": {
   "codemirror_mode": {
    "name": "ipython",
    "version": 3
   },
   "file_extension": ".py",
   "mimetype": "text/x-python",
   "name": "python",
   "nbconvert_exporter": "python",
   "pygments_lexer": "ipython3",
   "version": "3.9.7"
  }
 },
 "nbformat": 4,
 "nbformat_minor": 5
}
